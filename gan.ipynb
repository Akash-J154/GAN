{
 "cells": [
  {
   "cell_type": "code",
   "execution_count": 23,
   "metadata": {},
   "outputs": [],
   "source": [
    "import torch\n",
    "import torch.nn as nn\n",
    "import torch.nn.functional as F\n",
    "import torchvision.datasets as datasets\n",
    "from torch.utils.data import DataLoader\n",
    "import torchvision.transforms as transform\n",
    "import torch.optim as optim"
   ]
  },
  {
   "cell_type": "code",
   "execution_count": 17,
   "metadata": {},
   "outputs": [],
   "source": [
    "class Descriminator(nn.Module):\n",
    "    def __init__(self,imgsize) :\n",
    "        super().__init__()\n",
    "        self.dis=nn.Sequential(\n",
    "            nn.Linear(imgsize,64),\n",
    "            nn.LeakyReLU(0.1),\n",
    "            nn.Linear(64,1),\n",
    "            nn.Sigmoid()\n",
    "        )\n",
    "    def forward(self,x):\n",
    "        return self.dis(x)"
   ]
  },
  {
   "cell_type": "code",
   "execution_count": 18,
   "metadata": {},
   "outputs": [],
   "source": [
    "class Generator(nn.Module):\n",
    "    def __init__(self,imgsize,gensize):\n",
    "        super().__init__()\n",
    "        self.gen=nn.Sequential(nn.Linear(gensize,64),\n",
    "        nn.LeakyReLU(0.1),\n",
    "        nn.Linear(64,imgsize),\n",
    "        nn.Tanh()\n",
    "        )\n",
    "    def forward(self,x):\n",
    "        return self.gen(x)"
   ]
  },
  {
   "cell_type": "code",
   "execution_count": 21,
   "metadata": {},
   "outputs": [],
   "source": [
    "imgsize=28*28*1\n",
    "gensize=32\n",
    "device=\"cuda\" if torch.cuda.is_available() else \"cpu\"\n",
    "lr=3e-4\n",
    "batch_size=20\n",
    "epochs=20\n",
    "disc=Descriminator(imgsize).to(device)\n",
    "disc.apply()\n",
    "gene=Generator(imgsize,gensize).to(device)\n",
    "trans=transform.Compose(\n",
    "    [transform.ToTensor(),transform.Normalize((0.1307,),(0.3081,))]\n",
    ")\n",
    "dataset=datasets.MNIST(root='dataset/',transform=trans,download=True)\n"
   ]
  },
  {
   "cell_type": "code",
   "execution_count": 24,
   "metadata": {},
   "outputs": [],
   "source": [
    "data=DataLoader(dataset,batch_size=batch_size,shuffle=True)\n",
    "disccompile=optim.Adam(disc.parameters(),lr=lr)\n",
    "gencompile=optim.Adam(gene.parameters(),lr=lr)\n",
    "lossfunction=nn.BCELoss()\n"
   ]
  },
  {
   "cell_type": "code",
   "execution_count": null,
   "metadata": {},
   "outputs": [],
   "source": []
  }
 ],
 "metadata": {
  "kernelspec": {
   "display_name": "venv",
   "language": "python",
   "name": "python3"
  },
  "language_info": {
   "codemirror_mode": {
    "name": "ipython",
    "version": 3
   },
   "file_extension": ".py",
   "mimetype": "text/x-python",
   "name": "python",
   "nbconvert_exporter": "python",
   "pygments_lexer": "ipython3",
   "version": "3.9.12"
  },
  "orig_nbformat": 4,
  "vscode": {
   "interpreter": {
    "hash": "74d053a0415d33e8922b535bc75f60689b383e79499331c24f91fe5b90b6cfa4"
   }
  }
 },
 "nbformat": 4,
 "nbformat_minor": 2
}
